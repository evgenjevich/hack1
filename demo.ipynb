{
 "metadata": {
  "name": ""
 },
 "nbformat": 3,
 "nbformat_minor": 0,
 "worksheets": [
  {
   "cells": [
    {
     "cell_type": "markdown",
     "metadata": {},
     "source": [
      "# Using Sumatra with Pandas in IPython\n",
      "\n",
      "This notebook demonstrates using Sumatra to record simulations for a toy problem and then export the Sumatra records to a Pandas Dataframe.\n",
      "\n",
      " * Sumatra is a simulation management tool.\n",
      " \n",
      " * Pandas is a data analysis library.\n",
      "\n",
      "Let's start by creating a toy problem. The problem is to obtain run times for FiPy simulations with different\n",
      "\n",
      " * sized domains,\n",
      " \n",
      " * number of parallel processes,\n",
      " \n",
      " * solver iterations and\n",
      "\n",
      " * solver suites."
     ]
    },
    {
     "cell_type": "markdown",
     "metadata": {},
     "source": [
      "# Setup the Simulations"
     ]
    },
    {
     "cell_type": "code",
     "collapsed": false,
     "input": [
      "import json\n",
      "\n",
      "params = {'N' : 10, 'suite' : 'trilinos', 'iterations' : 100}\n",
      "\n",
      "with open('params.json', 'w') as fp:\n",
      "    json.dump(params, fp)"
     ],
     "language": "python",
     "metadata": {},
     "outputs": [],
     "prompt_number": 6
    },
    {
     "cell_type": "code",
     "collapsed": false,
     "input": [
      "%%writefile fipy_timing.py\n",
      "\n",
      "\"\"\"\n",
      "Usage: fipy_timing.py [<jsonfile>]\n",
      "\n",
      "\"\"\"\n",
      "\n",
      "from docopt import docopt\n",
      "import json\n",
      "import timeit\n",
      "import numpy as np\n",
      "import fipy as fp\n",
      "import os\n",
      "\n",
      "arguments = docopt(__doc__, version='Run FiPy timing')\n",
      "jsonfile = arguments['<jsonfile>']\n",
      "\n",
      "if jsonfile:\n",
      "    with open(jsonfile, 'rb') as ff:\n",
      "        params = json.load(ff)\n",
      "else:\n",
      "    params = dict()\n",
      "    \n",
      "N = params.get('N', 10)\n",
      "iterations = params.get('iterations', 100)\n",
      "suite = params.get('suite', 'trilinos')\n",
      "sumatra_label = params.get('sumatra_label', '')\n",
      "\n",
      "attempts = 3\n",
      "\n",
      "setup_str = '''\n",
      "import fipy as fp\n",
      "import numpy as np\n",
      "np.random.seed(1)\n",
      "L = 1.\n",
      "N = {N:d}\n",
      "m = fp.GmshGrid3D(nx=N, ny=N, nz=N, dx=L / N, dy=L / N, dz=L / N)\n",
      "v0 = np.random.random(m.numberOfCells)\n",
      "v = fp.CellVariable(mesh=m)\n",
      "v0 = np.resize(v0, len(v)) ## Gmsh doesn't always give us the correct sized grid!\n",
      "eqn = fp.TransientTerm(1e-3) == fp.DiffusionTerm()\n",
      "v[:] = v0.copy()\n",
      "\n",
      "import fipy.solvers.{suite} as solvers\n",
      "solver = solvers.linearPCGSolver.LinearPCGSolver(precon=None, iterations={iterations}, tolerance=1e-100)\n",
      "\n",
      "eqn.solve(v, dt=1., solver=solver)\n",
      "v[:] = v0.copy()\n",
      "'''\n",
      "\n",
      "timeit_str = '''\n",
      "eqn.solve(v, dt=1., solver=solver)\n",
      "fp.parallelComm.Barrier()\n",
      "'''\n",
      "\n",
      "timer = timeit.Timer(timeit_str, setup=setup_str.format(N=N, suite=suite, iterations=iterations))\n",
      "times = timer.repeat(attempts, 1)\n",
      "\n",
      "if fp.parallelComm.procID == 0:\n",
      "    filepath = os.path.join('Data', sumatra_label)\n",
      "    filename = 'data.txt'\n",
      "    np.savetxt(os.path.join(filepath, filename), times)"
     ],
     "language": "python",
     "metadata": {},
     "outputs": [
      {
       "output_type": "stream",
       "stream": "stdout",
       "text": [
        "Overwriting fipy_timing.py\n"
       ]
      }
     ],
     "prompt_number": 26
    },
    {
     "cell_type": "code",
     "collapsed": false,
     "input": [
      "!python fipy_timing.py params.json"
     ],
     "language": "python",
     "metadata": {},
     "outputs": [],
     "prompt_number": 145
    },
    {
     "cell_type": "code",
     "collapsed": false,
     "input": [
      "!more Data/data.txt"
     ],
     "language": "python",
     "metadata": {},
     "outputs": [
      {
       "output_type": "stream",
       "stream": "stdout",
       "text": [
        "1.253199577331542969e-02\r\n",
        "1.225900650024414062e-02\r\n",
        "1.175403594970703125e-02\r\n"
       ]
      }
     ],
     "prompt_number": 146
    },
    {
     "cell_type": "markdown",
     "metadata": {},
     "source": [
      "# Create a Git Repository"
     ]
    },
    {
     "cell_type": "markdown",
     "metadata": {},
     "source": [
      "In this demo, I'm assuming that the working directory is a Git repository set up with\n",
      "\n",
      "    $ git init\n",
      "$ git add fipy_timing.py\n",
      "    $ git ci -m \"Add timing script.\"\n",
      "    \n",
      "The first step is to create the a Sumatra repository with"
     ]
    },
    {
     "cell_type": "code",
     "collapsed": false,
     "input": [
      "!git status"
     ],
     "language": "python",
     "metadata": {},
     "outputs": [
      {
       "output_type": "stream",
       "stream": "stdout",
       "text": [
        "# On branch master\r\n",
        "# Changes not staged for commit:\r\n",
        "#   (use \"git add <file>...\" to update what will be committed)\r\n",
        "#   (use \"git checkout -- <file>...\" to discard changes in working directory)\r\n",
        "#\r\n",
        "#\t\u001b[32mmodified:   demo.ipynb\u001b[m\r\n",
        "#\t\u001b[32mmodified:   fipy_timing.py\u001b[m\r\n",
        "#\r\n",
        "# Untracked files:\r\n",
        "#   (use \"git add <file>...\" to include in what will be committed)\r\n",
        "#\r\n",
        "#\t\u001b[36mData/\u001b[m\r\n",
        "no changes added to commit (use \"git add\" and/or \"git commit -a\")\r\n"
       ]
      }
     ],
     "prompt_number": 147
    },
    {
     "cell_type": "markdown",
     "metadata": {},
     "source": [
      "# Configure Sumatra"
     ]
    },
    {
     "cell_type": "code",
     "collapsed": false,
     "input": [
      "%%bash\n",
      "\n",
      "\\rm -rf .smt\n",
      "smt init smt-demo\n",
      "smt configure --executable=python --main=fipy_timing.py\n",
      "smt configure --launch_mode=distributed\n",
      "smt configure -g uuid\n",
      "smt configure -c store-diff\n",
      "smt configure --addlabel=parameters"
     ],
     "language": "python",
     "metadata": {},
     "outputs": [
      {
       "output_type": "stream",
       "stream": "stdout",
       "text": [
        "Sumatra project successfully set up\n",
        "Multiple versions found, using /home/wd15/anaconda/bin/python. If you wish to use a different version, please specify it explicitly\n",
        "Multiple versions found, using /home/wd15/anaconda/bin/mpirun. If you wish to use a different version, please specify it explicitly\n"
       ]
      }
     ],
     "prompt_number": 148
    },
    {
     "cell_type": "markdown",
     "metadata": {},
     "source": [
      "This would normally be run with \n",
      "\n",
      "    $ mpirun -n 2 python fipy_timing.py params.json\n",
      "    \n",
      "replaced with\n",
      "\n",
      "    $ smt run -n 2 params.json"
     ]
    },
    {
     "cell_type": "markdown",
     "metadata": {},
     "source": [
      "# Test"
     ]
    },
    {
     "cell_type": "code",
     "collapsed": false,
     "input": [
      "!smt run --tag=test -n 2 params.json"
     ],
     "language": "python",
     "metadata": {},
     "outputs": [
      {
       "output_type": "stream",
       "stream": "stdout",
       "text": [
        "/home/wd15/anaconda/lib/python2.7/site-packages/matplotlib/__init__.py:740: UserWarning: Found matplotlib configuration in ~/.matplotlib/. To conform with the XDG base directory standard, this configuration location has been deprecated on Linux, and the new location is now '/home/wd15/.config'/matplotlib/. Please move your configuration there to ensure that matplotlib will continue to find it in the future.\r\n",
        "  _get_xdg_config_dir())\r\n"
       ]
      },
      {
       "output_type": "stream",
       "stream": "stdout",
       "text": [
        "/home/wd15/hg/sumatra/sumatra/launch.py:264: UserWarning: mpi4py is not available, so Sumatra is not able to obtain platform information for remote nodes.\r\n",
        "  warnings.warn(\"mpi4py is not available, so Sumatra is not able to obtain platform information for remote nodes.\")\r\n"
       ]
      },
      {
       "output_type": "stream",
       "stream": "stdout",
       "text": [
        "cmd /home/wd15/anaconda/bin/mpirun -n 2 --wdir /home/wd15/git/smt-demo /home/wd15/anaconda/bin/python   fipy_timing.py 6b04488b14ed.json\r\n"
       ]
      },
      {
       "output_type": "stream",
       "stream": "stdout",
       "text": [
        "Data keys are [data.txt(883a87e8508cec4b96e2215c888daf1dd66a6f4b)]\r\n"
       ]
      }
     ],
     "prompt_number": 150
    },
    {
     "cell_type": "markdown",
     "metadata": {},
     "source": [
      "# Run Simulations"
     ]
    },
    {
     "cell_type": "code",
     "collapsed": false,
     "input": [
      "import itertools\n",
      "\n",
      "nprocs = (1, 2, 4, 8)#\n",
      "iterations_ = (100,)\n",
      "Ns = (40,)\n",
      "suites = ('trilinos',)\n",
      "tag='demo3'\n",
      "\n",
      "for nproc, iterations, N, suite in itertools.product(nprocs, iterations_, Ns, suites):\n",
      "    !smt run --tag=$tag -n $nproc params.json N=$N iterations=$iterations suite=$suite"
     ],
     "language": "python",
     "metadata": {},
     "outputs": [
      {
       "output_type": "stream",
       "stream": "stdout",
       "text": [
        "/home/wd15/anaconda/lib/python2.7/site-packages/matplotlib/__init__.py:740: UserWarning: Found matplotlib configuration in ~/.matplotlib/. To conform with the XDG base directory standard, this configuration location has been deprecated on Linux, and the new location is now '/home/wd15/.config'/matplotlib/. Please move your configuration there to ensure that matplotlib will continue to find it in the future.\r\n",
        "  _get_xdg_config_dir())\r\n"
       ]
      },
      {
       "output_type": "stream",
       "stream": "stdout",
       "text": [
        "/home/wd15/hg/sumatra/sumatra/launch.py:264: UserWarning: mpi4py is not available, so Sumatra is not able to obtain platform information for remote nodes.\r\n",
        "  warnings.warn(\"mpi4py is not available, so Sumatra is not able to obtain platform information for remote nodes.\")\r\n"
       ]
      },
      {
       "output_type": "stream",
       "stream": "stdout",
       "text": [
        "cmd /home/wd15/anaconda/bin/mpirun -n 1 --wdir /home/wd15/git/smt-demo /home/wd15/anaconda/bin/python   fipy_timing.py 0731f5a8e231.json\r\n"
       ]
      },
      {
       "output_type": "stream",
       "stream": "stdout",
       "text": [
        "Data keys are [data.txt(e4b3cd8eb1ee2f87b62db4a261685b15894fa957)]\r\n"
       ]
      },
      {
       "output_type": "stream",
       "stream": "stdout",
       "text": [
        "/home/wd15/anaconda/lib/python2.7/site-packages/matplotlib/__init__.py:740: UserWarning: Found matplotlib configuration in ~/.matplotlib/. To conform with the XDG base directory standard, this configuration location has been deprecated on Linux, and the new location is now '/home/wd15/.config'/matplotlib/. Please move your configuration there to ensure that matplotlib will continue to find it in the future.\r\n",
        "  _get_xdg_config_dir())\r\n"
       ]
      },
      {
       "output_type": "stream",
       "stream": "stdout",
       "text": [
        "/home/wd15/hg/sumatra/sumatra/launch.py:264: UserWarning: mpi4py is not available, so Sumatra is not able to obtain platform information for remote nodes.\r\n",
        "  warnings.warn(\"mpi4py is not available, so Sumatra is not able to obtain platform information for remote nodes.\")\r\n"
       ]
      },
      {
       "output_type": "stream",
       "stream": "stdout",
       "text": [
        "cmd /home/wd15/anaconda/bin/mpirun -n 2 --wdir /home/wd15/git/smt-demo /home/wd15/anaconda/bin/python   fipy_timing.py 179247440765.json\r\n"
       ]
      },
      {
       "output_type": "stream",
       "stream": "stdout",
       "text": [
        "Data keys are [data.txt(b77dbf9081b3b41b95b5cd2ba49be28106a9f2d6)]\r\n"
       ]
      },
      {
       "output_type": "stream",
       "stream": "stdout",
       "text": [
        "/home/wd15/anaconda/lib/python2.7/site-packages/matplotlib/__init__.py:740: UserWarning: Found matplotlib configuration in ~/.matplotlib/. To conform with the XDG base directory standard, this configuration location has been deprecated on Linux, and the new location is now '/home/wd15/.config'/matplotlib/. Please move your configuration there to ensure that matplotlib will continue to find it in the future.\r\n",
        "  _get_xdg_config_dir())\r\n"
       ]
      },
      {
       "output_type": "stream",
       "stream": "stdout",
       "text": [
        "/home/wd15/hg/sumatra/sumatra/launch.py:264: UserWarning: mpi4py is not available, so Sumatra is not able to obtain platform information for remote nodes.\r\n",
        "  warnings.warn(\"mpi4py is not available, so Sumatra is not able to obtain platform information for remote nodes.\")\r\n"
       ]
      },
      {
       "output_type": "stream",
       "stream": "stdout",
       "text": [
        "cmd /home/wd15/anaconda/bin/mpirun -n 4 --wdir /home/wd15/git/smt-demo /home/wd15/anaconda/bin/python   fipy_timing.py 27bb809fa8ad.json\r\n"
       ]
      },
      {
       "output_type": "stream",
       "stream": "stdout",
       "text": [
        "Data keys are [data.txt(d7c6e998c861c3eafb70c238a636345b862abc0e)]\r\n"
       ]
      },
      {
       "output_type": "stream",
       "stream": "stdout",
       "text": [
        "/home/wd15/anaconda/lib/python2.7/site-packages/matplotlib/__init__.py:740: UserWarning: Found matplotlib configuration in ~/.matplotlib/. To conform with the XDG base directory standard, this configuration location has been deprecated on Linux, and the new location is now '/home/wd15/.config'/matplotlib/. Please move your configuration there to ensure that matplotlib will continue to find it in the future.\r\n",
        "  _get_xdg_config_dir())\r\n"
       ]
      },
      {
       "output_type": "stream",
       "stream": "stdout",
       "text": [
        "/home/wd15/hg/sumatra/sumatra/launch.py:264: UserWarning: mpi4py is not available, so Sumatra is not able to obtain platform information for remote nodes.\r\n",
        "  warnings.warn(\"mpi4py is not available, so Sumatra is not able to obtain platform information for remote nodes.\")\r\n"
       ]
      },
      {
       "output_type": "stream",
       "stream": "stdout",
       "text": [
        "cmd /home/wd15/anaconda/bin/mpirun -n 8 --wdir /home/wd15/git/smt-demo /home/wd15/anaconda/bin/python   fipy_timing.py f2073ab41bd7.json\r\n"
       ]
      },
      {
       "output_type": "stream",
       "stream": "stdout",
       "text": [
        "Data keys are [data.txt(028ff0af61cbfd229266a8ece544f182ba5e4cc4)]\r\n"
       ]
      }
     ],
     "prompt_number": 192
    },
    {
     "cell_type": "markdown",
     "metadata": {},
     "source": [
      "# Import into Pandas Dataframe"
     ]
    },
    {
     "cell_type": "code",
     "collapsed": false,
     "input": [
      "import json\n",
      "import pandas\n",
      "\n",
      "!smt export\n",
      "with open('.smt/records_export.json') as ff:\n",
      "    data = json.load(ff)\n",
      "\n",
      "df = pandas.DataFrame(data)"
     ],
     "language": "python",
     "metadata": {},
     "outputs": [],
     "prompt_number": 273
    },
    {
     "cell_type": "code",
     "collapsed": false,
     "input": [
      "print df"
     ],
     "language": "python",
     "metadata": {},
     "outputs": [
      {
       "output_type": "stream",
       "stream": "stdout",
       "text": [
        "<class 'pandas.core.frame.DataFrame'>\n",
        "Int64Index: 10 entries, 0 to 9\n",
        "Data columns (total 23 columns):\n",
        "datastore           10  non-null values\n",
        "dependencies        10  non-null values\n",
        "diff                10  non-null values\n",
        "duration            10  non-null values\n",
        "executable          10  non-null values\n",
        "input_data          10  non-null values\n",
        "input_datastore     10  non-null values\n",
        "label               10  non-null values\n",
        "launch_mode         10  non-null values\n",
        "main_file           10  non-null values\n",
        "outcome             10  non-null values\n",
        "output_data         10  non-null values\n",
        "parameters          10  non-null values\n",
        "platforms           10  non-null values\n",
        "reason              10  non-null values\n",
        "repeats             0  non-null values\n",
        "repository          10  non-null values\n",
        "script_arguments    10  non-null values\n",
        "stdout_stderr       10  non-null values\n",
        "tags                10  non-null values\n",
        "timestamp           10  non-null values\n",
        "user                10  non-null values\n",
        "version             10  non-null values\n",
        "dtypes: float64(1), object(22)\n"
       ]
      }
     ],
     "prompt_number": 274
    },
    {
     "cell_type": "code",
     "collapsed": false,
     "input": [
      "print df[['label', 'duration']]"
     ],
     "language": "python",
     "metadata": {},
     "outputs": [
      {
       "output_type": "stream",
       "stream": "stdout",
       "text": [
        "          label   duration\n",
        "0  f2073ab41bd7  34.305814\n",
        "1  27bb809fa8ad  24.290209\n",
        "2  179247440765  28.439126\n",
        "3  0731f5a8e231  32.452093\n",
        "4  0330697ac505   2.569647\n",
        "5  a04a49a2107b   1.873670\n",
        "6  6b3d5ac075a6   1.283991\n",
        "7  1b124fc57ced   5.125001\n",
        "8  6b04488b14ed   5.207692\n",
        "9  5cc0546270c9   5.027596\n"
       ]
      }
     ],
     "prompt_number": 275
    },
    {
     "cell_type": "markdown",
     "metadata": {},
     "source": [
      "# Reformat the Raw Imported Dataframe"
     ]
    },
    {
     "cell_type": "code",
     "collapsed": false,
     "input": [
      "import json\n",
      "df = df.copy()\n",
      "df['nproc'] = df.launch_mode.map(lambda x: x['parameters']['n'])\n",
      "for p in 'N', 'iterations', 'suite':\n",
      "    df[p] = df.parameters.map(lambda x: json.loads(x['content'])[p])"
     ],
     "language": "python",
     "metadata": {},
     "outputs": [],
     "prompt_number": 277
    },
    {
     "cell_type": "code",
     "collapsed": false,
     "input": [
      "columns = ['label', 'nproc', 'N', 'iterations', 'suite', 'tags']\n",
      "print df[columns].sort('nproc')"
     ],
     "language": "python",
     "metadata": {},
     "outputs": [
      {
       "output_type": "stream",
       "stream": "stdout",
       "text": [
        "          label  nproc   N  iterations     suite     tags\n",
        "3  0731f5a8e231      1  40         100  trilinos  [demo3]\n",
        "7  1b124fc57ced      1  10         100  trilinos  [demo2]\n",
        "2  179247440765      2  40         100  trilinos  [demo3]\n",
        "6  6b3d5ac075a6      2  10         100  trilinos  [demo2]\n",
        "8  6b04488b14ed      2  10         100  trilinos   [test]\n",
        "9  5cc0546270c9      2  10         100  trilinos       []\n",
        "1  27bb809fa8ad      4  40         100  trilinos  [demo3]\n",
        "5  a04a49a2107b      4  10         100  trilinos  [demo2]\n",
        "0  f2073ab41bd7      8  40         100  trilinos  [demo3]\n",
        "4  0330697ac505      8  10         100  trilinos  [demo2]\n"
       ]
      }
     ],
     "prompt_number": 278
    },
    {
     "cell_type": "code",
     "collapsed": false,
     "input": [
      "mask2 = df.tags.map(lambda x: 'demo2' in x)\n",
      "mask3 = df.tags.map(lambda x: 'demo3' in x)\n",
      "print df[columns][mask2].sort('nproc')\n",
      "print df[columns][mask3].sort('nproc')"
     ],
     "language": "python",
     "metadata": {},
     "outputs": [
      {
       "output_type": "stream",
       "stream": "stdout",
       "text": [
        "          label  nproc   N  iterations     suite     tags\n",
        "7  1b124fc57ced      1  10         100  trilinos  [demo2]\n",
        "6  6b3d5ac075a6      2  10         100  trilinos  [demo2]\n",
        "5  a04a49a2107b      4  10         100  trilinos  [demo2]\n",
        "4  0330697ac505      8  10         100  trilinos  [demo2]\n",
        "          label  nproc   N  iterations     suite     tags\n",
        "3  0731f5a8e231      1  40         100  trilinos  [demo3]\n",
        "2  179247440765      2  40         100  trilinos  [demo3]\n",
        "1  27bb809fa8ad      4  40         100  trilinos  [demo3]\n",
        "0  f2073ab41bd7      8  40         100  trilinos  [demo3]\n"
       ]
      }
     ],
     "prompt_number": 280
    },
    {
     "cell_type": "code",
     "collapsed": false,
     "input": [
      "import os\n",
      "\n",
      "datafiles = df['output_data'].map(lambda x: x[0]['path'])\n",
      "datapaths = df['datastore'].map(lambda x: x['parameters']['root'])\n",
      "data = [np.loadtxt(os.path.join(x, y)) for x, y in zip(datapaths, datafiles)]\n",
      "df['run_time'] = [min(d) for d in data]"
     ],
     "language": "python",
     "metadata": {},
     "outputs": [],
     "prompt_number": 281
    },
    {
     "cell_type": "code",
     "collapsed": false,
     "input": [
      "columns.append('run_time')\n",
      "print df[columns].sort('nproc')"
     ],
     "language": "python",
     "metadata": {},
     "outputs": [
      {
       "output_type": "stream",
       "stream": "stdout",
       "text": [
        "          label  nproc   N  iterations     suite     tags  run_time\n",
        "3  0731f5a8e231      1  40         100  trilinos  [demo3]  0.402522\n",
        "7  1b124fc57ced      1  10         100  trilinos  [demo2]  0.012017\n",
        "2  179247440765      2  40         100  trilinos  [demo3]  0.253387\n",
        "6  6b3d5ac075a6      2  10         100  trilinos  [demo2]  0.011340\n",
        "8  6b04488b14ed      2  10         100  trilinos   [test]  0.010802\n",
        "9  5cc0546270c9      2  10         100  trilinos       []  0.011014\n",
        "1  27bb809fa8ad      4  40         100  trilinos  [demo3]  0.179195\n",
        "5  a04a49a2107b      4  10         100  trilinos  [demo2]  0.010196\n",
        "0  f2073ab41bd7      8  40         100  trilinos  [demo3]  0.184142\n",
        "4  0330697ac505      8  10         100  trilinos  [demo2]  0.016702\n"
       ]
      }
     ],
     "prompt_number": 282
    },
    {
     "cell_type": "code",
     "collapsed": false,
     "input": [
      "df2 = df[mask2]\n",
      "df3 = df[mask3]\n",
      "ax = df2.plot('nproc', 'run_time', label='N={0}'.format(df2.N.iat[0]))\n",
      "df3.plot('nproc', 'run_time', ylim=0, ax=ax, label='N={0}'.format(df3.N.iat[0]))\n",
      "plt.ylabel('Run Time (s)')\n",
      "plt.xlabel('Number of Processes')\n",
      "plt.legend()"
     ],
     "language": "python",
     "metadata": {},
     "outputs": [
      {
       "metadata": {},
       "output_type": "pyout",
       "prompt_number": 285,
       "text": [
        "<matplotlib.legend.Legend at 0x8e90bd0>"
       ]
      },
      {
       "metadata": {},
       "output_type": "display_data",
       "png": "[encoded data removed]",
       "text": [
        "<matplotlib.figure.Figure at 0x8e90e50>"
       ]
      }
     ],
     "prompt_number": 285
    },
    {
     "cell_type": "code",
     "collapsed": false,
     "input": [
      "df.to_hdf('store.h5', 'df')"
     ],
     "language": "python",
     "metadata": {},
     "outputs": [],
     "prompt_number": 310
    },
    {
     "cell_type": "code",
     "collapsed": false,
     "input": [
      "store = pandas.HDFStore('store.h5')\n",
      "print store.df.dependencies"
     ],
     "language": "python",
     "metadata": {},
     "outputs": [
      {
       "output_type": "stream",
       "stream": "stdout",
       "text": [
        "0    [{u'name': u'IPython', u'module': u'python', u...\n",
        "1    [{u'name': u'IPython', u'module': u'python', u...\n",
        "2    [{u'name': u'IPython', u'module': u'python', u...\n",
        "3    [{u'name': u'IPython', u'module': u'python', u...\n",
        "4    [{u'name': u'IPython', u'module': u'python', u...\n",
        "5    [{u'name': u'IPython', u'module': u'python', u...\n",
        "6    [{u'name': u'IPython', u'module': u'python', u...\n",
        "7    [{u'name': u'IPython', u'module': u'python', u...\n",
        "8    [{u'name': u'IPython', u'module': u'python', u...\n",
        "9    [{u'name': u'IPython', u'module': u'python', u...\n",
        "Name: dependencies, dtype: object\n"
       ]
      }
     ],
     "prompt_number": 315
    },
    {
     "cell_type": "markdown",
     "metadata": {},
     "source": [
      "# Conclusion\n",
      "\n",
      " * Sumatra stores data in an SQL style database. Not good for manipulating data.\n",
      "    \n",
      " * Pandas is good for manipulating data after database has been created.\n",
      " \n",
      " * It's easy to import Sumatra records into Pandas"
     ]
    }
   ],
   "metadata": {}
  }
 ]
}
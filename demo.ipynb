{
 "metadata": {
  "name": ""
 },
 "nbformat": 3,
 "nbformat_minor": 0,
 "worksheets": [
  {
   "cells": [
    {
     "cell_type": "markdown",
     "metadata": {},
     "source": [
      "# Using Sumatra with Pandas in IPython\n",
      "\n",
      "This notebook demonstrates how to use\n",
      "[Sumatra](http://neuralensemble.org/sumatra/) to capture simulation\n",
      "input data and meta data and then\n",
      "export these records into a Pandas data frame.  Sumatra has a stand\n",
      "alone web interface built with Django which allows users to view the\n",
      "data. Data can also be imported into Python, but requires a lot of\n",
      "code to manipulate and display in useful custom formats. Pandas seems\n",
      "like the ideal solution for manipulating Sumatra's data. In particular\n",
      "the ability to easily and quickly combine input data, meta data, and\n",
      "output data into custom data frames is really powerful for\n",
      "data analysis, reproduciblity and sharing.\n",
      "\n",
      "The first step in using Sumatra is to setup a simulation. Here the\n",
      "simulation just runs a diffusion problem using FiPy and outputs the\n",
      "time taken for a time step. The goal of the work is to test FiPy's parallel\n",
      "speed up based on different input parameters.\n"
     ]
    },
    {
     "cell_type": "markdown",
     "metadata": {},
     "source": [
      "# Setup the Simulations"
     ]
    },
    {
     "cell_type": "code",
     "collapsed": false,
     "input": [
      "%matplotlib inline\n",
      "%load_ext autoreload\n",
      "%autoreload 2\n",
      "\n",
      "import numpy as np\n",
      "import matplotlib.pyplot as plt"
     ],
     "language": "python",
     "metadata": {},
     "outputs": [],
     "prompt_number": 1
    },
    {
     "cell_type": "markdown",
     "metadata": {},
     "source": [
      "Sumatra requires a file with the parameters specified."
     ]
    },
    {
     "cell_type": "code",
     "collapsed": false,
     "input": [
      "import json\n",
      "\n",
      "params = {'N' : 10, 'suite' : 'trilinos', 'iterations' : 100}\n",
      "\n",
      "with open('params.json', 'w') as fp:\n",
      "    json.dump(params, fp)"
     ],
     "language": "python",
     "metadata": {},
     "outputs": [],
     "prompt_number": 2
    },
    {
     "cell_type": "markdown",
     "metadata": {},
     "source": [
      "The script file for running the simulation is `fipy_timing.py`. It reads the JSON file, runs the simulation and the stores the run times in `data.txt`."
     ]
    },
    {
     "cell_type": "code",
     "collapsed": false,
     "input": [
      "%%writefile fipy_timing.py\n",
      "\n",
      "\"\"\"\n",
      "Usage: fipy_timing.py [<jsonfile>]\n",
      "\n",
      "\"\"\"\n",
      "\n",
      "from docopt import docopt\n",
      "import json\n",
      "import timeit\n",
      "import numpy as np\n",
      "import fipy as fp\n",
      "import os\n",
      "\n",
      "arguments = docopt(__doc__, version='Run FiPy timing')\n",
      "jsonfile = arguments['<jsonfile>']\n",
      "\n",
      "if jsonfile:\n",
      "    with open(jsonfile, 'rb') as ff:\n",
      "        params = json.load(ff)\n",
      "else:\n",
      "    params = dict()\n",
      "    \n",
      "N = params.get('N', 10)\n",
      "iterations = params.get('iterations', 100)\n",
      "suite = params.get('suite', 'trilinos')\n",
      "sumatra_label = params.get('sumatra_label', '')\n",
      "\n",
      "attempts = 3\n",
      "\n",
      "setup_str = '''\n",
      "import fipy as fp\n",
      "import numpy as np\n",
      "np.random.seed(1)\n",
      "L = 1.\n",
      "N = {N:d}\n",
      "m = fp.GmshGrid3D(nx=N, ny=N, nz=N, dx=L / N, dy=L / N, dz=L / N)\n",
      "v0 = np.random.random(m.numberOfCells)\n",
      "v = fp.CellVariable(mesh=m)\n",
      "v0 = np.resize(v0, len(v)) ## Gmsh doesn't always give us the correct sized grid!\n",
      "eqn = fp.TransientTerm(1e-3) == fp.DiffusionTerm()\n",
      "v[:] = v0.copy()\n",
      "\n",
      "import fipy.solvers.{suite} as solvers\n",
      "solver = solvers.linearPCGSolver.LinearPCGSolver(precon=None, iterations={iterations}, tolerance=1e-100)\n",
      "\n",
      "eqn.solve(v, dt=1., solver=solver)\n",
      "v[:] = v0.copy()\n",
      "'''\n",
      "\n",
      "timeit_str = '''\n",
      "eqn.solve(v, dt=1., solver=solver)\n",
      "fp.parallelComm.Barrier()\n",
      "'''\n",
      "\n",
      "timer = timeit.Timer(timeit_str, setup=setup_str.format(N=N, suite=suite, iterations=iterations))\n",
      "times = timer.repeat(attempts, 1)\n",
      "\n",
      "if fp.parallelComm.procID == 0:\n",
      "    filepath = os.path.join('Data', sumatra_label)\n",
      "    filename = 'data.txt'\n",
      "    np.savetxt(os.path.join(filepath, filename), times)"
     ],
     "language": "python",
     "metadata": {},
     "outputs": [
      {
       "output_type": "stream",
       "stream": "stdout",
       "text": [
        "Overwriting fipy_timing.py\n"
       ]
      }
     ],
     "prompt_number": 3
    },
    {
     "cell_type": "markdown",
     "metadata": {},
     "source": [
      "Without using Sumatra and in serial this is run with"
     ]
    },
    {
     "cell_type": "code",
     "collapsed": false,
     "input": [
      "!python fipy_timing.py params.json"
     ],
     "language": "python",
     "metadata": {},
     "outputs": [],
     "prompt_number": 145
    },
    {
     "cell_type": "markdown",
     "metadata": {},
     "source": [
      "and the output data file is"
     ]
    },
    {
     "cell_type": "code",
     "collapsed": false,
     "input": [
      "!more Data/data.txt"
     ],
     "language": "python",
     "metadata": {},
     "outputs": [
      {
       "output_type": "stream",
       "stream": "stdout",
       "text": [
        "1.253199577331542969e-02\r\n",
        "1.225900650024414062e-02\r\n",
        "1.175403594970703125e-02\r\n"
       ]
      }
     ],
     "prompt_number": 146
    },
    {
     "cell_type": "markdown",
     "metadata": {},
     "source": [
      "# Create a Git Repository"
     ]
    },
    {
     "cell_type": "markdown",
     "metadata": {},
     "source": [
      "In this demo, I'm assuming that the working directory is a Git repository set up with\n",
      "\n",
      "    $ git init\n",
      "$ git add fipy_timing.py\n",
      "    $ git ci -m \"Add timing script.\"\n",
      "    \n",
      "Sumatra requires that the script is sitting in the a working copy of a repository."
     ]
    },
    {
     "cell_type": "code",
     "collapsed": false,
     "input": [
      "!git log -1"
     ],
     "language": "python",
     "metadata": {},
     "outputs": [
      {
       "output_type": "stream",
       "stream": "stdout",
       "text": [
        "\u001b[33mcommit 6a830dac2ea45ea090ec91a4a0f5263be10e95f3\u001b[m\r\n",
        "Author: Daniel Wheeler <daniel.wheeler2@gmail.com>\r\n",
        "Date:   Wed Feb 26 13:50:21 2014 -0500\r\n",
        "\r\n",
        "    Fix README.\r\n"
       ]
      }
     ],
     "prompt_number": 3
    },
    {
     "cell_type": "markdown",
     "metadata": {},
     "source": [
      "# Configure Sumatra"
     ]
    },
    {
     "cell_type": "markdown",
     "metadata": {},
     "source": [
      "Once the repository is setup, the Sumatra repository can be configured. Here we are using the `distributed` launch mode as we want Sumatra to launch and\n",
      "record parallel jobs."
     ]
    },
    {
     "cell_type": "code",
     "collapsed": false,
     "input": [
      "%%bash\n",
      "\n",
      "\\rm -rf .smt\n",
      "smt init smt-demo\n",
      "smt configure --executable=python --main=fipy_timing.py\n",
      "smt configure --launch_mode=distributed\n",
      "smt configure -g uuid\n",
      "smt configure -c store-diff\n",
      "smt configure --addlabel=parameters"
     ],
     "language": "python",
     "metadata": {},
     "outputs": [
      {
       "output_type": "stream",
       "stream": "stdout",
       "text": [
        "Sumatra project successfully set up\n",
        "Multiple versions found, using /home/wd15/anaconda/bin/python. If you wish to use a different version, please specify it explicitly\n",
        "Multiple versions found, using /home/wd15/anaconda/bin/mpirun. If you wish to use a different version, please specify it explicitly\n"
       ]
      }
     ],
     "prompt_number": 148
    },
    {
     "cell_type": "markdown",
     "metadata": {},
     "source": [
      "Sumatra requires that  a `Data/` directory exists in the working copy."
     ]
    },
    {
     "cell_type": "code",
     "collapsed": false,
     "input": [
      "!mkdir Data"
     ],
     "language": "python",
     "metadata": {},
     "outputs": []
    },
    {
     "cell_type": "markdown",
     "metadata": {},
     "source": [
      "If we were not using Sumatra, we would launch the job with \n",
      "\n",
      "    $ mpirun -n 2 python fipy_timing.py params.json\n",
      "    \n",
      "The equivalent command using Sumatra is\n",
      "\n",
      "    $ smt run -n 2 params.json\n",
      " "
     ]
    },
    {
     "cell_type": "markdown",
     "metadata": {},
     "source": [
      "# Run Simulations\n",
      "\n",
      "In the following cell we just run a batch of simulations with varying parameters."
     ]
    },
    {
     "cell_type": "code",
     "collapsed": false,
     "input": [
      "import itertools\n",
      "\n",
      "nprocs = (1, 2, 4, 8)#\n",
      "iterations_ = (100,)\n",
      "Ns = (10, 40)\n",
      "suites = ('trilinos',)\n",
      "tag='demo4'\n",
      "\n",
      "for nproc, iterations, N, suite in itertools.product(nprocs, iterations_, Ns, suites):\n",
      "    !smt run --tag=$tag -n $nproc params.json N=$N iterations=$iterations suite=$suite"
     ],
     "language": "python",
     "metadata": {},
     "outputs": [
      {
       "output_type": "stream",
       "stream": "stdout",
       "text": [
        "/home/wd15/anaconda/lib/python2.7/site-packages/matplotlib/__init__.py:740: UserWarning: Found matplotlib configuration in ~/.matplotlib/. To conform with the XDG base directory standard, this configuration location has been deprecated on Linux, and the new location is now '/home/wd15/.config'/matplotlib/. Please move your configuration there to ensure that matplotlib will continue to find it in the future.\r\n",
        "  _get_xdg_config_dir())\r\n"
       ]
      },
      {
       "output_type": "stream",
       "stream": "stdout",
       "text": [
        "/home/wd15/hg/sumatra/sumatra/launch.py:263: UserWarning: mpi4py is not available, so Sumatra is not able to obtain platform information for remote nodes.\r\n",
        "  warnings.warn(\"mpi4py is not available, so Sumatra is not able to obtain platform information for remote nodes.\")\r\n"
       ]
      },
      {
       "output_type": "stream",
       "stream": "stdout",
       "text": [
        "Data keys are [data.txt(5a633ee751a2043deb828d28d4daefc0372c5b63)]\r\n"
       ]
      },
      {
       "output_type": "stream",
       "stream": "stdout",
       "text": [
        "/home/wd15/anaconda/lib/python2.7/site-packages/matplotlib/__init__.py:740: UserWarning: Found matplotlib configuration in ~/.matplotlib/. To conform with the XDG base directory standard, this configuration location has been deprecated on Linux, and the new location is now '/home/wd15/.config'/matplotlib/. Please move your configuration there to ensure that matplotlib will continue to find it in the future.\r\n",
        "  _get_xdg_config_dir())\r\n"
       ]
      },
      {
       "output_type": "stream",
       "stream": "stdout",
       "text": [
        "/home/wd15/hg/sumatra/sumatra/launch.py:263: UserWarning: mpi4py is not available, so Sumatra is not able to obtain platform information for remote nodes.\r\n",
        "  warnings.warn(\"mpi4py is not available, so Sumatra is not able to obtain platform information for remote nodes.\")\r\n"
       ]
      },
      {
       "output_type": "stream",
       "stream": "stdout",
       "text": [
        "Data keys are [data.txt(f66b8ea1a596f8f06321d389fc412e4809d50697)]\r\n"
       ]
      },
      {
       "output_type": "stream",
       "stream": "stdout",
       "text": [
        "/home/wd15/anaconda/lib/python2.7/site-packages/matplotlib/__init__.py:740: UserWarning: Found matplotlib configuration in ~/.matplotlib/. To conform with the XDG base directory standard, this configuration location has been deprecated on Linux, and the new location is now '/home/wd15/.config'/matplotlib/. Please move your configuration there to ensure that matplotlib will continue to find it in the future.\r\n",
        "  _get_xdg_config_dir())\r\n"
       ]
      },
      {
       "output_type": "stream",
       "stream": "stdout",
       "text": [
        "/home/wd15/hg/sumatra/sumatra/launch.py:263: UserWarning: mpi4py is not available, so Sumatra is not able to obtain platform information for remote nodes.\r\n",
        "  warnings.warn(\"mpi4py is not available, so Sumatra is not able to obtain platform information for remote nodes.\")\r\n"
       ]
      },
      {
       "output_type": "stream",
       "stream": "stdout",
       "text": [
        "Data keys are [data.txt(1d0effa7003d8e75bf998cce5a4f71a72dff7025)]\r\n"
       ]
      },
      {
       "output_type": "stream",
       "stream": "stdout",
       "text": [
        "/home/wd15/anaconda/lib/python2.7/site-packages/matplotlib/__init__.py:740: UserWarning: Found matplotlib configuration in ~/.matplotlib/. To conform with the XDG base directory standard, this configuration location has been deprecated on Linux, and the new location is now '/home/wd15/.config'/matplotlib/. Please move your configuration there to ensure that matplotlib will continue to find it in the future.\r\n",
        "  _get_xdg_config_dir())\r\n"
       ]
      },
      {
       "output_type": "stream",
       "stream": "stdout",
       "text": [
        "/home/wd15/hg/sumatra/sumatra/launch.py:263: UserWarning: mpi4py is not available, so Sumatra is not able to obtain platform information for remote nodes.\r\n",
        "  warnings.warn(\"mpi4py is not available, so Sumatra is not able to obtain platform information for remote nodes.\")\r\n"
       ]
      },
      {
       "output_type": "stream",
       "stream": "stdout",
       "text": [
        "Data keys are [data.txt(38d19ef93141666ffbabcb30c700028a87631ced)]\r\n"
       ]
      },
      {
       "output_type": "stream",
       "stream": "stdout",
       "text": [
        "/home/wd15/anaconda/lib/python2.7/site-packages/matplotlib/__init__.py:740: UserWarning: Found matplotlib configuration in ~/.matplotlib/. To conform with the XDG base directory standard, this configuration location has been deprecated on Linux, and the new location is now '/home/wd15/.config'/matplotlib/. Please move your configuration there to ensure that matplotlib will continue to find it in the future.\r\n",
        "  _get_xdg_config_dir())\r\n"
       ]
      },
      {
       "output_type": "stream",
       "stream": "stdout",
       "text": [
        "/home/wd15/hg/sumatra/sumatra/launch.py:263: UserWarning: mpi4py is not available, so Sumatra is not able to obtain platform information for remote nodes.\r\n",
        "  warnings.warn(\"mpi4py is not available, so Sumatra is not able to obtain platform information for remote nodes.\")\r\n"
       ]
      },
      {
       "output_type": "stream",
       "stream": "stdout",
       "text": [
        "Data keys are [data.txt(3fa95ba72c140b64dc07d4d2a7a9d0af38da06c8)]\r\n"
       ]
      },
      {
       "output_type": "stream",
       "stream": "stdout",
       "text": [
        "/home/wd15/anaconda/lib/python2.7/site-packages/matplotlib/__init__.py:740: UserWarning: Found matplotlib configuration in ~/.matplotlib/. To conform with the XDG base directory standard, this configuration location has been deprecated on Linux, and the new location is now '/home/wd15/.config'/matplotlib/. Please move your configuration there to ensure that matplotlib will continue to find it in the future.\r\n",
        "  _get_xdg_config_dir())\r\n"
       ]
      },
      {
       "output_type": "stream",
       "stream": "stdout",
       "text": [
        "/home/wd15/hg/sumatra/sumatra/launch.py:263: UserWarning: mpi4py is not available, so Sumatra is not able to obtain platform information for remote nodes.\r\n",
        "  warnings.warn(\"mpi4py is not available, so Sumatra is not able to obtain platform information for remote nodes.\")\r\n"
       ]
      },
      {
       "output_type": "stream",
       "stream": "stdout",
       "text": [
        "Data keys are [data.txt(2c702e292ec4da225cdfc414d29f80e9df2ccfd7)]\r\n"
       ]
      },
      {
       "output_type": "stream",
       "stream": "stdout",
       "text": [
        "/home/wd15/anaconda/lib/python2.7/site-packages/matplotlib/__init__.py:740: UserWarning: Found matplotlib configuration in ~/.matplotlib/. To conform with the XDG base directory standard, this configuration location has been deprecated on Linux, and the new location is now '/home/wd15/.config'/matplotlib/. Please move your configuration there to ensure that matplotlib will continue to find it in the future.\r\n",
        "  _get_xdg_config_dir())\r\n"
       ]
      },
      {
       "output_type": "stream",
       "stream": "stdout",
       "text": [
        "/home/wd15/hg/sumatra/sumatra/launch.py:263: UserWarning: mpi4py is not available, so Sumatra is not able to obtain platform information for remote nodes.\r\n",
        "  warnings.warn(\"mpi4py is not available, so Sumatra is not able to obtain platform information for remote nodes.\")\r\n"
       ]
      },
      {
       "output_type": "stream",
       "stream": "stdout",
       "text": [
        "Data keys are [data.txt(c63d4c44770cdc4329b13dc863762c8b5069dd2e)]\r\n"
       ]
      },
      {
       "output_type": "stream",
       "stream": "stdout",
       "text": [
        "/home/wd15/anaconda/lib/python2.7/site-packages/matplotlib/__init__.py:740: UserWarning: Found matplotlib configuration in ~/.matplotlib/. To conform with the XDG base directory standard, this configuration location has been deprecated on Linux, and the new location is now '/home/wd15/.config'/matplotlib/. Please move your configuration there to ensure that matplotlib will continue to find it in the future.\r\n",
        "  _get_xdg_config_dir())\r\n"
       ]
      },
      {
       "output_type": "stream",
       "stream": "stdout",
       "text": [
        "/home/wd15/hg/sumatra/sumatra/launch.py:263: UserWarning: mpi4py is not available, so Sumatra is not able to obtain platform information for remote nodes.\r\n",
        "  warnings.warn(\"mpi4py is not available, so Sumatra is not able to obtain platform information for remote nodes.\")\r\n"
       ]
      },
      {
       "output_type": "stream",
       "stream": "stdout",
       "text": [
        "Data keys are [data.txt(c4e026e885b64122b4b578c334ef9f078eac3df1)]\r\n"
       ]
      }
     ],
     "prompt_number": 4
    },
    {
     "cell_type": "markdown",
     "metadata": {},
     "source": [
      "# Import into Pandas Dataframe\n",
      "\n",
      "The important part of this story is how to import the data into the Pandas data frame. This is actually trivial as Sumatra's default export format is a JSON file with all the records."
     ]
    },
    {
     "cell_type": "code",
     "collapsed": false,
     "input": [
      "import json\n",
      "import pandas\n",
      "\n",
      "!smt export\n",
      "with open('.smt/records_export.json') as ff:\n",
      "    data = json.load(ff)\n",
      "\n",
      "df = pandas.DataFrame(data)"
     ],
     "language": "python",
     "metadata": {},
     "outputs": [],
     "prompt_number": 5
    },
    {
     "cell_type": "markdown",
     "metadata": {},
     "source": [
      "The Sumatra data is now in a Pandas data frame, albeit a touch raw."
     ]
    },
    {
     "cell_type": "code",
     "collapsed": false,
     "input": [
      "print df"
     ],
     "language": "python",
     "metadata": {},
     "outputs": [
      {
       "output_type": "stream",
       "stream": "stdout",
       "text": [
        "<class 'pandas.core.frame.DataFrame'>\n",
        "Int64Index: 18 entries, 0 to 17\n",
        "Data columns (total 23 columns):\n",
        "datastore           18  non-null values\n",
        "dependencies        18  non-null values\n",
        "diff                18  non-null values\n",
        "duration            18  non-null values\n",
        "executable          18  non-null values\n",
        "input_data          18  non-null values\n",
        "input_datastore     18  non-null values\n",
        "label               18  non-null values\n",
        "launch_mode         18  non-null values\n",
        "main_file           18  non-null values\n",
        "outcome             18  non-null values\n",
        "output_data         18  non-null values\n",
        "parameters          18  non-null values\n",
        "platforms           18  non-null values\n",
        "reason              18  non-null values\n",
        "repeats             0  non-null values\n",
        "repository          18  non-null values\n",
        "script_arguments    18  non-null values\n",
        "stdout_stderr       18  non-null values\n",
        "tags                18  non-null values\n",
        "timestamp           18  non-null values\n",
        "user                18  non-null values\n",
        "version             18  non-null values\n",
        "dtypes: float64(1), object(22)\n"
       ]
      }
     ],
     "prompt_number": 6
    },
    {
     "cell_type": "code",
     "collapsed": false,
     "input": [
      "print df[['label', 'duration']]"
     ],
     "language": "python",
     "metadata": {},
     "outputs": [
      {
       "output_type": "stream",
       "stream": "stdout",
       "text": [
        "           label   duration\n",
        "0   ac32b9fc6df4  32.574247\n",
        "1   f372719a0648   6.860735\n",
        "2   9695c2529109  24.854690\n",
        "3   bf710e5339ff   3.592334\n",
        "4   179099003946  28.189878\n",
        "5   eeffa50a08bd   3.995513\n",
        "6   180b9c889f94  34.474531\n",
        "7   0732f6d89fc4   4.214891\n",
        "8   f2073ab41bd7  34.305814\n",
        "9   27bb809fa8ad  24.290209\n",
        "10  179247440765  28.439126\n",
        "11  0731f5a8e231  32.452093\n",
        "12  0330697ac505   2.569647\n",
        "13  a04a49a2107b   1.873670\n",
        "14  6b3d5ac075a6   1.283991\n",
        "15  1b124fc57ced   5.125001\n",
        "16  6b04488b14ed   5.207692\n",
        "17  5cc0546270c9   5.027596\n"
       ]
      }
     ],
     "prompt_number": 7
    },
    {
     "cell_type": "markdown",
     "metadata": {},
     "source": [
      "# Reformat the Raw Imported Dataframe\n",
      "\n",
      "While all the meta data is important, often we want the input and\n",
      "output data combined into a data frame in a digestible\n",
      "form. Typically, we want a graph of reduced input versus reduced\n",
      "output.\n",
      "\n",
      "The first step is to introduce columns in the data frame for each of the input parameters (input data). The input data is buried in the `launch_mode` and `parameters` columns of the raw data frame."
     ]
    },
    {
     "cell_type": "code",
     "collapsed": false,
     "input": [
      "import json\n",
      "df = df.copy()\n",
      "df['nproc'] = df.launch_mode.map(lambda x: x['parameters']['n'])\n",
      "for p in 'N', 'iterations', 'suite':\n",
      "    df[p] = df.parameters.map(lambda x: json.loads(x['content'])[p])"
     ],
     "language": "python",
     "metadata": {},
     "outputs": [],
     "prompt_number": 8
    },
    {
     "cell_type": "markdown",
     "metadata": {},
     "source": [
      "We now have the input data exposed as columns in the data frame."
     ]
    },
    {
     "cell_type": "code",
     "collapsed": false,
     "input": [
      "columns = ['label', 'nproc', 'N', 'iterations', 'suite', 'tags']\n",
      "print df[columns].sort('nproc')"
     ],
     "language": "python",
     "metadata": {},
     "outputs": [
      {
       "output_type": "stream",
       "stream": "stdout",
       "text": [
        "           label  nproc   N  iterations     suite     tags\n",
        "15  1b124fc57ced      1  10         100  trilinos  [demo2]\n",
        "6   180b9c889f94      1  40         100  trilinos  [demo4]\n",
        "7   0732f6d89fc4      1  10         100  trilinos  [demo4]\n",
        "11  0731f5a8e231      1  40         100  trilinos  [demo3]\n",
        "17  5cc0546270c9      2  10         100  trilinos       []\n",
        "4   179099003946      2  40         100  trilinos  [demo4]\n",
        "5   eeffa50a08bd      2  10         100  trilinos  [demo4]\n",
        "16  6b04488b14ed      2  10         100  trilinos   [test]\n",
        "10  179247440765      2  40         100  trilinos  [demo3]\n",
        "14  6b3d5ac075a6      2  10         100  trilinos  [demo2]\n",
        "2   9695c2529109      4  40         100  trilinos  [demo4]\n",
        "3   bf710e5339ff      4  10         100  trilinos  [demo4]\n",
        "9   27bb809fa8ad      4  40         100  trilinos  [demo3]\n",
        "13  a04a49a2107b      4  10         100  trilinos  [demo2]\n",
        "0   ac32b9fc6df4      8  40         100  trilinos  [demo4]\n",
        "1   f372719a0648      8  10         100  trilinos  [demo4]\n",
        "12  0330697ac505      8  10         100  trilinos  [demo2]\n",
        "8   f2073ab41bd7      8  40         100  trilinos  [demo3]\n"
       ]
      }
     ],
     "prompt_number": 9
    },
    {
     "cell_type": "markdown",
     "metadata": {},
     "source": [
      "The following pulls out the run times stored in the output files from each simulation into a `run_time` column."
     ]
    },
    {
     "cell_type": "code",
     "collapsed": false,
     "input": [
      "import os\n",
      "\n",
      "datafiles = df['output_data'].map(lambda x: x[0]['path'])\n",
      "datapaths = df['datastore'].map(lambda x: x['parameters']['root'])\n",
      "data = [np.loadtxt(os.path.join(x, y)) for x, y in zip(datapaths, datafiles)]\n",
      "df['run_time'] = [min(d) for d in data]"
     ],
     "language": "python",
     "metadata": {},
     "outputs": [],
     "prompt_number": 10
    },
    {
     "cell_type": "code",
     "collapsed": false,
     "input": [
      "columns.append('run_time')\n",
      "print df[columns].sort('nproc')"
     ],
     "language": "python",
     "metadata": {},
     "outputs": [
      {
       "output_type": "stream",
       "stream": "stdout",
       "text": [
        "           label  nproc   N  iterations     suite     tags  run_time\n",
        "15  1b124fc57ced      1  10         100  trilinos  [demo2]  0.012017\n",
        "6   180b9c889f94      1  40         100  trilinos  [demo4]  0.419316\n",
        "7   0732f6d89fc4      1  10         100  trilinos  [demo4]  0.012037\n",
        "11  0731f5a8e231      1  40         100  trilinos  [demo3]  0.402522\n",
        "17  5cc0546270c9      2  10         100  trilinos       []  0.011014\n",
        "4   179099003946      2  40         100  trilinos  [demo4]  0.252318\n",
        "5   eeffa50a08bd      2  10         100  trilinos  [demo4]  0.011214\n",
        "16  6b04488b14ed      2  10         100  trilinos   [test]  0.010802\n",
        "10  179247440765      2  40         100  trilinos  [demo3]  0.253387\n",
        "14  6b3d5ac075a6      2  10         100  trilinos  [demo2]  0.011340\n",
        "2   9695c2529109      4  40         100  trilinos  [demo4]  0.173505\n",
        "3   bf710e5339ff      4  10         100  trilinos  [demo4]  0.010188\n",
        "9   27bb809fa8ad      4  40         100  trilinos  [demo3]  0.179195\n",
        "13  a04a49a2107b      4  10         100  trilinos  [demo2]  0.010196\n",
        "0   ac32b9fc6df4      8  40         100  trilinos  [demo4]  0.178471\n",
        "1   f372719a0648      8  10         100  trilinos  [demo4]  0.016224\n",
        "12  0330697ac505      8  10         100  trilinos  [demo2]  0.016702\n",
        "8   f2073ab41bd7      8  40         100  trilinos  [demo3]  0.184142\n"
       ]
      }
     ],
     "prompt_number": 11
    },
    {
     "cell_type": "markdown",
     "metadata": {},
     "source": [
      "Create masks based on simulations records that have been tagged with either `demo2` or `demo3`. We want to plot these results as different curves on the same graph."
     ]
    },
    {
     "cell_type": "code",
     "collapsed": false,
     "input": [
      "tag_mask = df.tags.map(lambda x: 'demo4' in x)\n",
      "df_tmp = df[tag_mask]\n",
      "m10 = df_tmp.N.map(lambda x: x == 10)\n",
      "m40 = df_tmp.N.map(lambda x: x == 40)\n",
      "df_N10 = df_tmp[m10]\n",
      "df_N40 = df_tmp[m40]\n",
      "print df_N10[columns].sort('nproc')\n",
      "print df_N40[columns].sort('nproc')"
     ],
     "language": "python",
     "metadata": {},
     "outputs": [
      {
       "output_type": "stream",
       "stream": "stdout",
       "text": [
        "          label  nproc   N  iterations     suite     tags  run_time\n",
        "7  0732f6d89fc4      1  10         100  trilinos  [demo4]  0.012037\n",
        "5  eeffa50a08bd      2  10         100  trilinos  [demo4]  0.011214\n",
        "3  bf710e5339ff      4  10         100  trilinos  [demo4]  0.010188\n",
        "1  f372719a0648      8  10         100  trilinos  [demo4]  0.016224\n",
        "          label  nproc   N  iterations     suite     tags  run_time\n",
        "6  180b9c889f94      1  40         100  trilinos  [demo4]  0.419316\n",
        "4  179099003946      2  40         100  trilinos  [demo4]  0.252318\n",
        "2  9695c2529109      4  40         100  trilinos  [demo4]  0.173505\n",
        "0  ac32b9fc6df4      8  40         100  trilinos  [demo4]  0.178471\n"
       ]
      }
     ],
     "prompt_number": 17
    },
    {
     "cell_type": "markdown",
     "metadata": {},
     "source": [
      "We can plot the results we're interested in. Larger system size gives better parallel speed up."
     ]
    },
    {
     "cell_type": "code",
     "collapsed": false,
     "input": [
      "ax = df_N10.plot('nproc', 'run_time', label='N={0}'.format(df_N10.N.iat[0]))\n",
      "df_N40.plot('nproc', 'run_time', ylim=0, ax=ax, label='N={0}'.format(df_N40.N.iat[0]))\n",
      "plt.ylabel('Run Time (s)')\n",
      "plt.xlabel('Number of Processes')\n",
      "plt.legend()"
     ],
     "language": "python",
     "metadata": {},
     "outputs": [
      {
       "metadata": {},
       "output_type": "pyout",
       "prompt_number": 18,
       "text": [
        "<matplotlib.legend.Legend at 0x46e9390>"
       ]
      },
      {
       "metadata": {},
       "output_type": "display_data",
       "png": "[encoded data removed]",
       "text": [
        "<matplotlib.figure.Figure at 0x46e92d0>"
       ]
      }
     ],
     "prompt_number": 18
    },
    {
     "cell_type": "markdown",
     "metadata": {},
     "source": [
      "Using Pandas it is easy to store a custom data frame."
     ]
    },
    {
     "cell_type": "code",
     "collapsed": false,
     "input": [
      "df.to_hdf('store.h5', 'df')"
     ],
     "language": "python",
     "metadata": {},
     "outputs": [
      {
       "output_type": "stream",
       "stream": "stderr",
       "text": [
        "/home/wd15/anaconda/lib/python2.7/site-packages/pandas/io/pytables.py:1992: PerformanceWarning: \n",
        "your performance may suffer as PyTables will pickle object types that it cannot\n",
        "map directly to c-types [inferred_type->mixed,key->axis0] [items->None]\n",
        "\n",
        "  warnings.warn(ws, PerformanceWarning)\n",
        "/home/wd15/anaconda/lib/python2.7/site-packages/pandas/io/pytables.py:1992: PerformanceWarning: \n",
        "your performance may suffer as PyTables will pickle object types that it cannot\n",
        "map directly to c-types [inferred_type->mixed,key->block0_items] [items->None]\n",
        "\n",
        "  warnings.warn(ws, PerformanceWarning)\n"
       ]
      },
      {
       "output_type": "stream",
       "stream": "stderr",
       "text": [
        "/home/wd15/anaconda/lib/python2.7/site-packages/pandas/io/pytables.py:1992: PerformanceWarning: \n",
        "your performance may suffer as PyTables will pickle object types that it cannot\n",
        "map directly to c-types [inferred_type->mixed,key->block2_values] [items->[u'datastore', u'dependencies', u'diff', u'executable', u'input_data', u'input_datastore', u'label', u'launch_mode', u'main_file', u'outcome', u'output_data', u'parameters', u'platforms', u'reason', u'repeats', u'repository', u'script_arguments', u'stdout_stderr', u'tags', u'timestamp', u'user', u'version', 'suite']]\n",
        "\n",
        "  warnings.warn(ws, PerformanceWarning)\n",
        "/home/wd15/anaconda/lib/python2.7/site-packages/pandas/io/pytables.py:1992: PerformanceWarning: \n",
        "your performance may suffer as PyTables will pickle object types that it cannot\n",
        "map directly to c-types [inferred_type->mixed,key->block2_items] [items->None]\n",
        "\n",
        "  warnings.warn(ws, PerformanceWarning)\n"
       ]
      }
     ],
     "prompt_number": 19
    },
    {
     "cell_type": "code",
     "collapsed": false,
     "input": [
      "store = pandas.HDFStore('store.h5')\n",
      "print store.df.dependencies"
     ],
     "language": "python",
     "metadata": {},
     "outputs": [
      {
       "output_type": "stream",
       "stream": "stdout",
       "text": [
        "0     [{u'name': u'IPython', u'module': u'python', u...\n",
        "1     [{u'name': u'IPython', u'module': u'python', u...\n",
        "2     [{u'name': u'IPython', u'module': u'python', u...\n",
        "3     [{u'name': u'IPython', u'module': u'python', u...\n",
        "4     [{u'name': u'IPython', u'module': u'python', u...\n",
        "5     [{u'name': u'IPython', u'module': u'python', u...\n",
        "6     [{u'name': u'IPython', u'module': u'python', u...\n",
        "7     [{u'name': u'IPython', u'module': u'python', u...\n",
        "8     [{u'name': u'IPython', u'module': u'python', u...\n",
        "9     [{u'name': u'IPython', u'module': u'python', u...\n",
        "10    [{u'name': u'IPython', u'module': u'python', u...\n",
        "11    [{u'name': u'IPython', u'module': u'python', u...\n",
        "12    [{u'name': u'IPython', u'module': u'python', u...\n",
        "13    [{u'name': u'IPython', u'module': u'python', u...\n",
        "14    [{u'name': u'IPython', u'module': u'python', u...\n",
        "15    [{u'name': u'IPython', u'module': u'python', u...\n",
        "16    [{u'name': u'IPython', u'module': u'python', u...\n",
        "17    [{u'name': u'IPython', u'module': u'python', u...\n",
        "Name: dependencies, dtype: object\n"
       ]
      }
     ],
     "prompt_number": 21
    },
    {
     "cell_type": "markdown",
     "metadata": {},
     "source": [
      "# Conclusion\n",
      "\n",
      "Sumatra stores data in an SQL style database and this isn't ideal for pulling data into Python for data manipulation. Pandas is good for data manipulation and pulling the records out of Sumatra and into Pandas is very easy."
     ]
    }
   ],
   "metadata": {}
  }
 ]
}